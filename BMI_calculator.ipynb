{
 "cells": [
  {
   "cell_type": "code",
   "execution_count": 1,
   "metadata": {},
   "outputs": [
    {
     "name": "stdout",
     "output_type": "stream",
     "text": [
      "Requirement already satisfied: pywebio in c:\\users\\dell\\anaconda3\\lib\\site-packages (1.2.3)\n",
      "Requirement already satisfied: tornado>=5.0 in c:\\users\\dell\\anaconda3\\lib\\site-packages (from pywebio) (6.0.4)\n",
      "Requirement already satisfied: user-agents in c:\\users\\dell\\anaconda3\\lib\\site-packages (from pywebio) (2.2.0)\n",
      "Requirement already satisfied: ua-parser>=0.10.0 in c:\\users\\dell\\anaconda3\\lib\\site-packages (from user-agents->pywebio) (0.10.0)\n",
      "Note: you may need to restart the kernel to use updated packages.\n"
     ]
    }
   ],
   "source": [
    "pip install pywebio\n"
   ]
  },
  {
   "cell_type": "code",
   "execution_count": 1,
   "metadata": {},
   "outputs": [],
   "source": [
    "from pywebio.input import *\n",
    "from pywebio.output import *\n",
    "\n",
    "def bmicalculator():\n",
    "    \n",
    "    height = input(\"Please enter your height in Cm\", type=FLOAT)\n",
    "    weight = input(\"Please enter your weight in Kg\", type=FLOAT)\n",
    "    \n",
    "    bmi = weight/(height/100)**2\n",
    "    \n",
    "    bmi_output=[(16, 'Severely Underweight'), (18.5, 'Underweight'), (25,'Normal'),\n",
    "                 (30, 'Overweight'), (35,'Moderately Obese'), (float('inf'), 'Severely Obese')]\n",
    "\n",
    "    for tuple1, tuple2 in bmi_output:\n",
    "        if bmi<=tuple1:\n",
    "            put_text(\"Your BMI is :%.1f and person is :%s\"%(bmi,tuple2))\n",
    "            break \n",
    "\n",
    "\n",
    "if __name__=='__main__':\n",
    "    bmicalculator()\n",
    "    \n",
    "    \n"
   ]
  },
  {
   "cell_type": "code",
   "execution_count": null,
   "metadata": {},
   "outputs": [],
   "source": []
  },
  {
   "cell_type": "code",
   "execution_count": null,
   "metadata": {},
   "outputs": [],
   "source": []
  },
  {
   "cell_type": "code",
   "execution_count": null,
   "metadata": {},
   "outputs": [],
   "source": []
  }
 ],
 "metadata": {
  "kernelspec": {
   "display_name": "Python 3",
   "language": "python",
   "name": "python3"
  },
  "language_info": {
   "codemirror_mode": {
    "name": "ipython",
    "version": 3
   },
   "file_extension": ".py",
   "mimetype": "text/x-python",
   "name": "python",
   "nbconvert_exporter": "python",
   "pygments_lexer": "ipython3",
   "version": "3.8.3"
  }
 },
 "nbformat": 4,
 "nbformat_minor": 4
}
